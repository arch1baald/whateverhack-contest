{
 "cells": [
  {
   "cell_type": "code",
   "execution_count": 109,
   "metadata": {},
   "outputs": [],
   "source": [
    "import json\n",
    "from IPython.display import display\n",
    "\n",
    "import requests\n",
    "import pandas as pd\n",
    "import numpy as np\n",
    "import matplotlib.pyplot as plt\n",
    "import matplotlib.cm as cm\n",
    "from scipy.interpolate import interp1d\n",
    "import line_profiler\n",
    "\n",
    "# plt.style.use('ggplot')\n",
    "plt.style.use('seaborn-pastel')"
   ]
  },
  {
   "cell_type": "code",
   "execution_count": 15,
   "metadata": {},
   "outputs": [],
   "source": [
    "with open('data/telemetry.json', 'r') as json_file:\n",
    "    df = pd.DataFrame(json.load(json_file))"
   ]
  },
  {
   "cell_type": "code",
   "execution_count": 40,
   "metadata": {},
   "outputs": [
    {
     "name": "stdout",
     "output_type": "stream",
     "text": [
      "MatchId\n",
      "PingQuality\n",
      "_D\n",
      "_T\n",
      "_U\n",
      "_V\n",
      "accountId\n",
      "attackId\n",
      "attackType\n",
      "attacker\n",
      "character\n",
      "characters\n",
      "childItem\n",
      "clientFPS\n",
      "damage\n",
      "damageCauserName\n",
      "damageReason\n",
      "damageTypeCategory\n",
      "distance\n",
      "elapsedTime\n",
      "errorMessage\n",
      "gameState\n",
      "item\n",
      "itemPackage\n",
      "killer\n",
      "mapName\n",
      "numAlivePlayers\n",
      "parentItem\n",
      "result\n",
      "vehicle\n",
      "victim\n",
      "weapon\n",
      "weatherId\n"
     ]
    }
   ],
   "source": [
    "for col in df.columns:\n",
    "    print(col)"
   ]
  },
  {
   "cell_type": "markdown",
   "metadata": {},
   "source": [
    "Описание матча"
   ]
  },
  {
   "cell_type": "code",
   "execution_count": 111,
   "metadata": {},
   "outputs": [
    {
     "data": {
      "text/plain": [
       "{'MatchId': {0: 'match.bro.official.2018-03.na.squad.2018.03.12.d6f1b510-ef2c-449b-bc14-bd1013e574d7'},\n",
       " 'PingQuality': {0: 'high'},\n",
       " '_D': {0: '2018-03-12T17:41:34.9258314+00:00'},\n",
       " '_T': {0: 'LogMatchDefinition'},\n",
       " '_U': {0: False},\n",
       " '_V': {0: 2},\n",
       " 'accountId': {0: nan},\n",
       " 'attackId': {0: nan},\n",
       " 'attackType': {0: nan},\n",
       " 'attacker': {0: nan},\n",
       " 'character': {0: nan},\n",
       " 'characters': {0: nan},\n",
       " 'childItem': {0: nan},\n",
       " 'clientFPS': {0: nan},\n",
       " 'damage': {0: nan},\n",
       " 'damageCauserName': {0: nan},\n",
       " 'damageReason': {0: nan},\n",
       " 'damageTypeCategory': {0: nan},\n",
       " 'distance': {0: nan},\n",
       " 'elapsedTime': {0: nan},\n",
       " 'errorMessage': {0: nan},\n",
       " 'gameState': {0: nan},\n",
       " 'item': {0: nan},\n",
       " 'itemPackage': {0: nan},\n",
       " 'killer': {0: nan},\n",
       " 'mapName': {0: nan},\n",
       " 'numAlivePlayers': {0: nan},\n",
       " 'parentItem': {0: nan},\n",
       " 'result': {0: nan},\n",
       " 'vehicle': {0: nan},\n",
       " 'victim': {0: nan},\n",
       " 'weapon': {0: nan},\n",
       " 'weatherId': {0: nan}}"
      ]
     },
     "execution_count": 111,
     "metadata": {},
     "output_type": "execute_result"
    }
   ],
   "source": [
    "df.query('_T == \"LogMatchDefinition\"').to_dict()"
   ]
  },
  {
   "cell_type": "markdown",
   "metadata": {},
   "source": [
    "Парсинг даты и создание временной метки события."
   ]
  },
  {
   "cell_type": "code",
   "execution_count": 184,
   "metadata": {},
   "outputs": [
    {
     "data": {
      "text/plain": [
       "0    70.672831\n",
       "1     0.000000\n",
       "2     0.021000\n",
       "3     0.021000\n",
       "4     0.043000\n",
       "Name: time, dtype: float64"
      ]
     },
     "execution_count": 184,
     "metadata": {},
     "output_type": "execute_result"
    }
   ],
   "source": [
    "df['_D'] = pd.to_datetime(df._D)\n",
    "df['time'] = df._D - df._D.min()\n",
    "df['time'] = df['time'].dt.total_seconds()\n",
    "df.time.head()"
   ]
  },
  {
   "cell_type": "markdown",
   "metadata": {},
   "source": [
    "Сортируем данные по времени, потому что первое событие в наборе вылетает через 70 сек после старта"
   ]
  },
  {
   "cell_type": "code",
   "execution_count": 188,
   "metadata": {},
   "outputs": [],
   "source": [
    "df = df.sort_values('time')"
   ]
  },
  {
   "cell_type": "markdown",
   "metadata": {},
   "source": [
    "Типы событий"
   ]
  },
  {
   "cell_type": "code",
   "execution_count": 214,
   "metadata": {},
   "outputs": [
    {
     "data": {
      "text/plain": [
       "['LogPlayerLogin',\n",
       " 'LogPlayerCreate',\n",
       " 'LogPlayerPosition',\n",
       " 'LogPlayerLogout',\n",
       " 'LogPlayerAttack',\n",
       " 'LogItemPickup',\n",
       " 'LogItemEquip',\n",
       " 'LogVehicleRide',\n",
       " 'LogMatchStart',\n",
       " 'LogMatchDefinition',\n",
       " 'LogGameStatePeriodic',\n",
       " 'LogVehicleLeave',\n",
       " 'LogItemUnequip',\n",
       " 'LogPlayerTakeDamage',\n",
       " 'LogItemAttach',\n",
       " 'LogItemDrop',\n",
       " 'LogPlayerKill',\n",
       " 'LogItemDetach',\n",
       " 'LogItemUse',\n",
       " 'LogCarePackageSpawn',\n",
       " 'LogCarePackageLand',\n",
       " 'LogVehicleDestroy',\n",
       " 'LogMatchEnd']"
      ]
     },
     "execution_count": 214,
     "metadata": {},
     "output_type": "execute_result"
    }
   ],
   "source": [
    "types = df._T.unique().tolist()\n",
    "with open('data/types.json', 'w') as types_json:\n",
    "    json.dump(types, types_json, indent=4)\n",
    "types"
   ]
  },
  {
   "cell_type": "markdown",
   "metadata": {},
   "source": [
    "События подбора предметов"
   ]
  },
  {
   "cell_type": "code",
   "execution_count": 190,
   "metadata": {},
   "outputs": [],
   "source": [
    "pickups = df.query('_T == \"LogItemPickup\"').item"
   ]
  },
  {
   "cell_type": "markdown",
   "metadata": {},
   "source": [
    "Список наименований предметов"
   ]
  },
  {
   "cell_type": "code",
   "execution_count": 191,
   "metadata": {},
   "outputs": [
    {
     "data": {
      "text/plain": [
       "['Item_Ammo_12Guage_C',\n",
       " 'Item_Ammo_300Magnum_C',\n",
       " 'Item_Ammo_45ACP_C',\n",
       " 'Item_Ammo_556mm_C',\n",
       " 'Item_Ammo_762mm_C',\n",
       " 'Item_Ammo_9mm_C',\n",
       " 'Item_Ammo_Bolt_C',\n",
       " 'Item_Armor_C_01_Lv3_C',\n",
       " 'Item_Armor_D_01_Lv2_C',\n",
       " 'Item_Armor_E_01_Lv1_C',\n",
       " 'Item_Attach_Weapon_Lower_AngledForeGrip_C',\n",
       " 'Item_Attach_Weapon_Lower_Foregrip_C',\n",
       " 'Item_Attach_Weapon_Magazine_ExtendedQuickDraw_Large_C',\n",
       " 'Item_Attach_Weapon_Magazine_ExtendedQuickDraw_Medium_C',\n",
       " 'Item_Attach_Weapon_Magazine_ExtendedQuickDraw_Small_C',\n",
       " 'Item_Attach_Weapon_Magazine_ExtendedQuickDraw_SniperRifle_C',\n",
       " 'Item_Attach_Weapon_Magazine_Extended_Large_C',\n",
       " 'Item_Attach_Weapon_Magazine_Extended_Medium_C',\n",
       " 'Item_Attach_Weapon_Magazine_Extended_Small_C',\n",
       " 'Item_Attach_Weapon_Magazine_Extended_SniperRifle_C',\n",
       " 'Item_Attach_Weapon_Magazine_QuickDraw_Large_C',\n",
       " 'Item_Attach_Weapon_Magazine_QuickDraw_Medium_C',\n",
       " 'Item_Attach_Weapon_Magazine_QuickDraw_SniperRifle_C',\n",
       " 'Item_Attach_Weapon_Muzzle_Choke_C',\n",
       " 'Item_Attach_Weapon_Muzzle_Compensator_Large_C',\n",
       " 'Item_Attach_Weapon_Muzzle_Compensator_Medium_C',\n",
       " 'Item_Attach_Weapon_Muzzle_Compensator_SniperRifle_C',\n",
       " 'Item_Attach_Weapon_Muzzle_FlashHider_Large_C',\n",
       " 'Item_Attach_Weapon_Muzzle_FlashHider_Medium_C',\n",
       " 'Item_Attach_Weapon_Muzzle_FlashHider_SniperRifle_C',\n",
       " 'Item_Attach_Weapon_Muzzle_Suppressor_Large_C',\n",
       " 'Item_Attach_Weapon_Muzzle_Suppressor_Medium_C',\n",
       " 'Item_Attach_Weapon_Muzzle_Suppressor_Small_C',\n",
       " 'Item_Attach_Weapon_Muzzle_Suppressor_SniperRifle_C',\n",
       " 'Item_Attach_Weapon_Stock_AR_Composite_C',\n",
       " 'Item_Attach_Weapon_Stock_Shotgun_BulletLoops_C',\n",
       " 'Item_Attach_Weapon_Stock_SniperRifle_BulletLoops_C',\n",
       " 'Item_Attach_Weapon_Stock_SniperRifle_CheekPad_C',\n",
       " 'Item_Attach_Weapon_Stock_UZI_C',\n",
       " 'Item_Attach_Weapon_Upper_ACOG_01_C',\n",
       " 'Item_Attach_Weapon_Upper_Aimpoint_C',\n",
       " 'Item_Attach_Weapon_Upper_CQBSS_C',\n",
       " 'Item_Attach_Weapon_Upper_DotSight_01_C',\n",
       " 'Item_Attach_Weapon_Upper_Holosight_C',\n",
       " 'Item_Back_B_01_StartParachutePack_C',\n",
       " 'Item_Back_C_01_Lv3_C',\n",
       " 'Item_Back_C_02_Lv3_C',\n",
       " 'Item_Back_E_01_Lv1_C',\n",
       " 'Item_Back_E_02_Lv1_C',\n",
       " 'Item_Back_F_01_Lv2_C',\n",
       " 'Item_Back_F_02_Lv2_C',\n",
       " 'Item_Body_C_02_C',\n",
       " 'Item_Body_F_01_C',\n",
       " 'Item_Body_F_02_C',\n",
       " 'Item_Body_G_03_C',\n",
       " 'Item_Body_J_02_C',\n",
       " 'Item_Boost_EnergyDrink_C',\n",
       " 'Item_Boost_PainKiller_C',\n",
       " 'Item_Eyes_D_03_C',\n",
       " 'Item_Feet_D_01_C',\n",
       " 'Item_Feet_D_02_C',\n",
       " 'Item_Feet_E_01_C',\n",
       " 'Item_Ghillie_01_C',\n",
       " 'Item_Hands_D_01_C',\n",
       " 'Item_Hands_E_01_C',\n",
       " 'Item_Head_C_01_C',\n",
       " 'Item_Head_D_01_C',\n",
       " 'Item_Head_E_01_Lv1_C',\n",
       " 'Item_Head_E_02_Lv1_C',\n",
       " 'Item_Head_F_01_Lv2_C',\n",
       " 'Item_Head_F_02_Lv2_C',\n",
       " 'Item_Head_G_01_Lv3_C',\n",
       " 'Item_Heal_Bandage_C',\n",
       " 'Item_Heal_FirstAid_C',\n",
       " 'Item_Heal_MedKit_C',\n",
       " 'Item_Jacket_C_02_C',\n",
       " 'Item_Jacket_C_03_C',\n",
       " 'Item_Jacket_D_01_C',\n",
       " 'Item_Jacket_D_02_C',\n",
       " 'Item_Jacket_D_03_C',\n",
       " 'Item_JerryCan_C',\n",
       " 'Item_Legs_BR05_01_C',\n",
       " 'Item_Legs_C_03_C',\n",
       " 'Item_Legs_C_04_C',\n",
       " 'Item_Legs_OU_01_C',\n",
       " 'Item_Mask_D_01_C',\n",
       " 'Item_Weapon_AK47_C',\n",
       " 'Item_Weapon_AUG_C',\n",
       " 'Item_Weapon_AWM_C',\n",
       " 'Item_Weapon_Berreta686_C',\n",
       " 'Item_Weapon_Cowbar_C',\n",
       " 'Item_Weapon_Crossbow_C',\n",
       " 'Item_Weapon_FlashBang_C',\n",
       " 'Item_Weapon_Grenade_C',\n",
       " 'Item_Weapon_HK416_C',\n",
       " 'Item_Weapon_Kar98k_C',\n",
       " 'Item_Weapon_M16A4_C',\n",
       " 'Item_Weapon_M1911_C',\n",
       " 'Item_Weapon_M9_C',\n",
       " 'Item_Weapon_Machete_C',\n",
       " 'Item_Weapon_Mini14_C',\n",
       " 'Item_Weapon_Molotov_C',\n",
       " 'Item_Weapon_Pan_C',\n",
       " 'Item_Weapon_Rhino_C',\n",
       " 'Item_Weapon_SCAR-L_C',\n",
       " 'Item_Weapon_SKS_C',\n",
       " 'Item_Weapon_Saiga12_C',\n",
       " 'Item_Weapon_Sawnoff_C',\n",
       " 'Item_Weapon_SmokeBomb_C',\n",
       " 'Item_Weapon_Thompson_C',\n",
       " 'Item_Weapon_UMP_C',\n",
       " 'Item_Weapon_UZI_C',\n",
       " 'Item_Weapon_VSS_C',\n",
       " 'Item_Weapon_Vector_C',\n",
       " 'Item_Weapon_Win1894_C',\n",
       " 'Item_Weapon_Winchester_C']"
      ]
     },
     "execution_count": 191,
     "metadata": {},
     "output_type": "execute_result"
    }
   ],
   "source": [
    "items = sorted(pickups.apply(lambda dct: dct['itemId']).unique().tolist())\n",
    "with open('data/items.json', 'w') as items_json:\n",
    "    json.dump(items, items_json, indent=4)\n",
    "items"
   ]
  },
  {
   "cell_type": "markdown",
   "metadata": {},
   "source": [
    "Айдишники предметов из событий подбора"
   ]
  },
  {
   "cell_type": "code",
   "execution_count": 199,
   "metadata": {},
   "outputs": [],
   "source": [
    "df['item_pickup'] = pickups.apply(lambda dct: dct['itemId'])"
   ]
  },
  {
   "cell_type": "markdown",
   "metadata": {},
   "source": [
    "Где подбирают SCAR-L?"
   ]
  },
  {
   "cell_type": "code",
   "execution_count": 216,
   "metadata": {},
   "outputs": [
    {
     "data": {
      "text/html": [
       "<div>\n",
       "<style scoped>\n",
       "    .dataframe tbody tr th:only-of-type {\n",
       "        vertical-align: middle;\n",
       "    }\n",
       "\n",
       "    .dataframe tbody tr th {\n",
       "        vertical-align: top;\n",
       "    }\n",
       "\n",
       "    .dataframe thead th {\n",
       "        text-align: right;\n",
       "    }\n",
       "</style>\n",
       "<table border=\"1\" class=\"dataframe\">\n",
       "  <thead>\n",
       "    <tr style=\"text-align: right;\">\n",
       "      <th></th>\n",
       "      <th>x</th>\n",
       "      <th>y</th>\n",
       "      <th>z</th>\n",
       "      <th>time</th>\n",
       "    </tr>\n",
       "  </thead>\n",
       "  <tbody>\n",
       "    <tr>\n",
       "      <th>2537</th>\n",
       "      <td>371405.40625</td>\n",
       "      <td>423242.43750</td>\n",
       "      <td>5939.649902</td>\n",
       "      <td>159.011</td>\n",
       "    </tr>\n",
       "    <tr>\n",
       "      <th>2565</th>\n",
       "      <td>369246.46875</td>\n",
       "      <td>422859.37500</td>\n",
       "      <td>5703.529785</td>\n",
       "      <td>159.925</td>\n",
       "    </tr>\n",
       "    <tr>\n",
       "      <th>2640</th>\n",
       "      <td>475103.78125</td>\n",
       "      <td>320796.78125</td>\n",
       "      <td>3973.929932</td>\n",
       "      <td>161.889</td>\n",
       "    </tr>\n",
       "    <tr>\n",
       "      <th>3958</th>\n",
       "      <td>367422.93750</td>\n",
       "      <td>421789.71875</td>\n",
       "      <td>5561.699707</td>\n",
       "      <td>194.348</td>\n",
       "    </tr>\n",
       "    <tr>\n",
       "      <th>4122</th>\n",
       "      <td>471549.62500</td>\n",
       "      <td>317735.93750</td>\n",
       "      <td>3970.569824</td>\n",
       "      <td>199.855</td>\n",
       "    </tr>\n",
       "  </tbody>\n",
       "</table>\n",
       "</div>"
      ],
      "text/plain": [
       "                 x             y            z     time\n",
       "2537  371405.40625  423242.43750  5939.649902  159.011\n",
       "2565  369246.46875  422859.37500  5703.529785  159.925\n",
       "2640  475103.78125  320796.78125  3973.929932  161.889\n",
       "3958  367422.93750  421789.71875  5561.699707  194.348\n",
       "4122  471549.62500  317735.93750  3970.569824  199.855"
      ]
     },
     "execution_count": 216,
     "metadata": {},
     "output_type": "execute_result"
    }
   ],
   "source": [
    "df_scar = df.query('item_pickup == \"Item_Weapon_SCAR-L_C\"')\n",
    "df_scar_pickup_locations = df_scar.character.apply(lambda dct: dct['location']).apply(lambda x: pd.Series(x))\n",
    "df_scar_pickup_locations = pd.concat([df_scar_pickup_locations, df_scar.time], axis=1)\n",
    "df_scar_pickup_locations.head()"
   ]
  },
  {
   "cell_type": "code",
   "execution_count": 241,
   "metadata": {},
   "outputs": [],
   "source": [
    "def to_rgb(lst):\n",
    "    lst = np.array(lst)\n",
    "    lst = (lst - lst.min()) / (lst.max() - lst.min())\n",
    "    rgb_list = [(r, 0.5, 0.75) for r in lst]\n",
    "    return rgb_list"
   ]
  },
  {
   "cell_type": "code",
   "execution_count": 261,
   "metadata": {},
   "outputs": [
    {
     "data": {
      "image/png": "[encoded data removed]",
      "text/plain": [
       "<matplotlib.figure.Figure at 0x122f55c18>"
      ]
     },
     "metadata": {},
     "output_type": "display_data"
    }
   ],
   "source": [
    "fig, ax = plt.subplots()\n",
    "scatter = plt.scatter(\n",
    "    x=df_scar_pickup_locations.x, y=df_scar_pickup_locations.y,\n",
    "    color=to_rgb(df_scar_pickup_locations.time),\n",
    ")\n",
    "plt.show()"
   ]
  },
  {
   "cell_type": "code",
   "execution_count": null,
   "metadata": {},
   "outputs": [],
   "source": []
  }
 ],
 "metadata": {
  "kernelspec": {
   "display_name": "Python 3",
   "language": "python",
   "name": "python3"
  },
  "language_info": {
   "codemirror_mode": {
    "name": "ipython",
    "version": 3
   },
   "file_extension": ".py",
   "mimetype": "text/x-python",
   "name": "python",
   "nbconvert_exporter": "python",
   "pygments_lexer": "ipython3",
   "version": "3.6.3"
  }
 },
 "nbformat": 4,
 "nbformat_minor": 2
}
